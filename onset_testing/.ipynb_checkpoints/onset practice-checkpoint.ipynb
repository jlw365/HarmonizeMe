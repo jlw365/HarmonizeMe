{
 "cells": [
  {
   "cell_type": "code",
   "execution_count": 3,
   "metadata": {
    "collapsed": true
   },
   "outputs": [],
   "source": [
    "ground_truth_onsets = [0.336689, 1.137778]\n",
    "onset_detector_tests = [0.200000003, 1.20000005]"
   ]
  },
  {
   "cell_type": "code",
   "execution_count": 2,
   "metadata": {
    "collapsed": false
   },
   "outputs": [
    {
     "name": "stdout",
     "output_type": "stream",
     "text": [
      "[0.336689, 1.137778]\n"
     ]
    }
   ],
   "source": [
    "print(onsets)"
   ]
  },
  {
   "cell_type": "code",
   "execution_count": 6,
   "metadata": {
    "collapsed": true
   },
   "outputs": [],
   "source": [
    "import matplotlib.pyplot as plt"
   ]
  },
  {
   "cell_type": "code",
   "execution_count": 9,
   "metadata": {
    "collapsed": false
   },
   "outputs": [
    {
     "ename": "SyntaxError",
     "evalue": "EOL while scanning string literal (<ipython-input-9-d831dcfab6b0>, line 11)",
     "output_type": "error",
     "traceback": [
      "\u001b[0;36m  File \u001b[0;32m\"<ipython-input-9-d831dcfab6b0>\"\u001b[0;36m, line \u001b[0;32m11\u001b[0m\n\u001b[0;31m    plt.ylabel('Time'')\u001b[0m\n\u001b[0m                       ^\u001b[0m\n\u001b[0;31mSyntaxError\u001b[0m\u001b[0;31m:\u001b[0m EOL while scanning string literal\n"
     ]
    }
   ],
   "source": [
    "# plt.plot(ground_truth_onsets)\n",
    "# plt.show()\n",
    "\n",
    "\n",
    "radius = [1.0, 2.0, 3.0, 4.0, 5.0, 6.0]\n",
    "area = [3.14159, 12.56636, 28.27431, 50.26544, 78.53975, 113.09724]\n",
    "square = [1.0, 4.0, 9.0, 16.0, 25.0, 36.0]\n",
    "plt.plot(radius, area, label='Circle')\n",
    "plt.plot(radius, square, marker='o', linestyle='--', color='r', label='Square')\n",
    "plt.xlabel('Onset')\n",
    "plt.ylabel('Time')\n",
    "plt.title('Onset Accuracy')\n",
    "plt.legend()\n",
    "plt.show()"
   ]
  },
  {
   "cell_type": "code",
   "execution_count": null,
   "metadata": {
    "collapsed": true
   },
   "outputs": [],
   "source": []
  }
 ],
 "metadata": {
  "anaconda-cloud": {},
  "kernelspec": {
   "display_name": "Python [conda root]",
   "language": "python",
   "name": "conda-root-py"
  },
  "language_info": {
   "codemirror_mode": {
    "name": "ipython",
    "version": 3
   },
   "file_extension": ".py",
   "mimetype": "text/x-python",
   "name": "python",
   "nbconvert_exporter": "python",
   "pygments_lexer": "ipython3",
   "version": "3.5.2"
  }
 },
 "nbformat": 4,
 "nbformat_minor": 1
}
